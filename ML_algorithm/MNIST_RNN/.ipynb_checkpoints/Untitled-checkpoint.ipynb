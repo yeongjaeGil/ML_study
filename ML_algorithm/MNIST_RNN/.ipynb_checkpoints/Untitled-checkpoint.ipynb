{
 "cells": [
  {
   "cell_type": "code",
   "execution_count": 16,
   "metadata": {},
   "outputs": [],
   "source": [
    "import torch\n",
    "import torch.nn as nn\n",
    "from torch.autograd import Variable\n",
    "\n",
    "h = [1, 0, 0, 0]\n",
    "e = [0, 1, 0, 0]\n",
    "l = [0, 0, 1, 0]\n",
    "o = [0, 0, 0, 1]\n",
    "\n",
    "cell = nn.RNN(input_size=4, hidden_size =2, batch_first=True)\n",
    "hidden = Variable(torch.randn(1,1,2))\n",
    "inputs = Variable(torch.Tensor([h,e,l,l,o]))"
   ]
  },
  {
   "cell_type": "code",
   "execution_count": 17,
   "metadata": {},
   "outputs": [
    {
     "name": "stdout",
     "output_type": "stream",
     "text": [
      "one input size torch.Size([1, 1, 4]) out.size torch.Size([1, 1, 2])\n",
      "one input size torch.Size([1, 1, 4]) out.size torch.Size([1, 1, 2])\n",
      "one input size torch.Size([1, 1, 4]) out.size torch.Size([1, 1, 2])\n",
      "one input size torch.Size([1, 1, 4]) out.size torch.Size([1, 1, 2])\n",
      "one input size torch.Size([1, 1, 4]) out.size torch.Size([1, 1, 2])\n"
     ]
    }
   ],
   "source": [
    "for one in inputs:\n",
    "    one = one.view(1,1,-1)\n",
    "    out, hidden = cell(one,hidden)\n",
    "    print(\"one input size\", one.size(), \"out.size\", out.size())"
   ]
  },
  {
   "cell_type": "code",
   "execution_count": 18,
   "metadata": {},
   "outputs": [
    {
     "name": "stdout",
     "output_type": "stream",
     "text": [
      "Sequence input size torch.Size([1, 5, 4]) Out size torch.Size([1, 5, 2])\n"
     ]
    }
   ],
   "source": [
    "# Input: (batch, seq_len, input_size) when batch_first = True\n",
    "inputs = inputs.view(1,5,-1)\n",
    "out, hidden = cell(inputs, hidden)\n",
    "print(\"Sequence input size\", inputs.size(), \"Out size\", out.size())"
   ]
  },
  {
   "cell_type": "code",
   "execution_count": 21,
   "metadata": {},
   "outputs": [],
   "source": [
    "inputs = Variable(torch.Tensor([[h,e,l,l,o],\n",
    "                               [e,o,l,l,l],\n",
    "                               [l,l,e,e,l]]))"
   ]
  },
  {
   "cell_type": "code",
   "execution_count": 22,
   "metadata": {},
   "outputs": [
    {
     "name": "stdout",
     "output_type": "stream",
     "text": [
      "Sequence input size torch.Size([3, 5, 4]) Out size torch.Size([3, 5, 2])\n"
     ]
    }
   ],
   "source": [
    "hidden = Variable(torch.randn(1, 3, 2))\n",
    "out, hidden = cell(inputs, hidden)\n",
    "print(\"Sequence input size\", inputs.size(), \"Out size\", out.size())"
   ]
  },
  {
   "cell_type": "code",
   "execution_count": 23,
   "metadata": {},
   "outputs": [
    {
     "name": "stdout",
     "output_type": "stream",
     "text": [
      "batch input size torch.Size([5, 3, 4]) out size torch.Size([5, 3, 2])\n"
     ]
    }
   ],
   "source": [
    "cell = nn.RNN(input_size=4, hidden_size=2)\n",
    "inputs = inputs.transpose(dim0=0, dim1=1)\n",
    "out, hidden = cell(inputs, hidden)\n",
    "print(\"batch input size\", inputs.size(), \"out size\", out.size())"
   ]
  },
  {
   "cell_type": "code",
   "execution_count": null,
   "metadata": {},
   "outputs": [],
   "source": []
  }
 ],
 "metadata": {
  "kernelspec": {
   "display_name": "spark",
   "language": "python",
   "name": "spark"
  },
  "language_info": {
   "codemirror_mode": {
    "name": "ipython",
    "version": 3
   },
   "file_extension": ".py",
   "mimetype": "text/x-python",
   "name": "python",
   "nbconvert_exporter": "python",
   "pygments_lexer": "ipython3",
   "version": "3.6.9"
  }
 },
 "nbformat": 4,
 "nbformat_minor": 4
}
